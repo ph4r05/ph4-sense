{
 "cells": [
  {
   "cell_type": "code",
   "execution_count": null,
   "id": "initial_id",
   "metadata": {},
   "outputs": [],
   "source": [
    "import coloredlogs\n",
    "import importlib\n",
    "import logging\n",
    "import serial\n",
    "import time\n",
    "\n",
    "try:\n",
    "    import board  # resets interfaces\n",
    "except Exception as e:\n",
    "    print('Board import error', e)\n",
    "\n",
    "# Raw FTDI access\n",
    "from pyftdi.i2c import I2cController\n",
    "\n",
    "# Sensors\n",
    "from adafruit_scd4x import SCD4X, SCD4X_DEFAULT_ADDR\n",
    "from ph4_sense.sensors.athx0 import ahtx0_factory\n",
    "from ph4_sense.sensors.ccs811 import CCS811Custom, css811_factory\n",
    "from ph4_sense.sensors.scd4x import scd4x_factory\n",
    "from ph4_sense.sensors.sgp30 import sgp30_factory\n",
    "from ph4_sense.sensors import sgp41 as m_sgp41\n",
    "from ph4_sense.sensors.sps30 import sps30_factory\n",
    "from ph4_sense_py.sensors.hdc1080_ada import HDC1080\n",
    "from ph4_sense_py.ftdi import FT2232HI2C\n",
    "\n",
    "coloredlogs.install(level=logging.INFO)\n",
    "\n"
   ]
  },
  {
   "cell_type": "code",
   "execution_count": null,
   "outputs": [],
   "source": [
    "#i2c = I2cController()\n",
    "#i2c.configure('ftdi://ftdi:2232h/1')\n",
    "#slave = i2c.get_port(0x42)\n",
    "#slave.write([0x01, 0x02, 0x03])\n",
    "\n",
    "# Use FTDI interface\n",
    "i2c=FT2232HI2C(0, frequency=100000)\n",
    "\n",
    "sgp30 = None\n",
    "sgp41 = None\n",
    "scd4x = None\n",
    "ccs811 = None\n",
    "hdc1080 = None\n",
    "sps30 = None"
   ],
   "metadata": {
    "collapsed": false
   },
   "id": "69d991e45d587e87"
  },
  {
   "cell_type": "code",
   "execution_count": null,
   "outputs": [],
   "source": [
    "print(f\"0x40 = {0x40} = HDC1080\")\n",
    "print(f\"0x58 = {0x58} = SGP30\")\n",
    "print(f\"0x59 = {0x59} = SGP41\")\n",
    "print(f\"0x5a = {0x5a} = CSS811\")\n",
    "print(f\"0x62 = {0x62} = SCD40\")\n",
    "print(f\"0x69 = {0x69} = SPS30\")\n"
   ],
   "metadata": {
    "collapsed": false
   },
   "id": "79f2c551a1de6d26"
  },
  {
   "cell_type": "code",
   "execution_count": null,
   "outputs": [],
   "source": [
    "print('Scan:', i2c.scan())"
   ],
   "metadata": {
    "collapsed": false
   },
   "id": "29c0ce58e341e4cf"
  },
  {
   "cell_type": "code",
   "execution_count": null,
   "outputs": [],
   "source": [
    "buff = bytearray(4) \n",
    "print(i2c.readfrom_into(0x69, buff))"
   ],
   "metadata": {
    "collapsed": false
   },
   "id": "c87fd245b40100bf"
  },
  {
   "cell_type": "code",
   "execution_count": null,
   "outputs": [],
   "source": [
    "scd4x = SCD4X(i2c)\n",
    "scd4x.start_periodic_measurement()"
   ],
   "metadata": {
    "collapsed": false
   },
   "id": "c32cedcb83018f84"
  },
  {
   "cell_type": "code",
   "execution_count": null,
   "outputs": [],
   "source": [
    "print(scd4x.CO2)"
   ],
   "metadata": {
    "collapsed": false
   },
   "id": "8534b8e70c4c7162"
  },
  {
   "cell_type": "code",
   "execution_count": null,
   "outputs": [],
   "source": [
    "sgp30 = sgp30_factory(i2c, measure_test=True, iaq_init=False)"
   ],
   "metadata": {
    "collapsed": false
   },
   "id": "fd91b0ac27b32984"
  },
  {
   "cell_type": "code",
   "execution_count": null,
   "outputs": [],
   "source": [
    "importlib.reload(m_sgp41)\n",
    "sgp41 = m_sgp41.sgp41_factory(i2c, measure_test=True, iaq_init=False)"
   ],
   "metadata": {
    "collapsed": false
   },
   "id": "766f3652222f1adc"
  },
  {
   "cell_type": "code",
   "execution_count": null,
   "outputs": [],
   "source": [
    "sgp41.execute_conditioning()"
   ],
   "metadata": {
    "collapsed": false
   },
   "id": "f4f8bcf2040c68fa"
  },
  {
   "cell_type": "code",
   "execution_count": null,
   "outputs": [],
   "source": [
    "sgp41.measure_raw()"
   ],
   "metadata": {
    "collapsed": false
   },
   "id": "bddc47f8bf1044bb"
  },
  {
   "cell_type": "code",
   "execution_count": null,
   "outputs": [],
   "source": [
    "ccs811 = css811_factory(i2c)"
   ],
   "metadata": {
    "collapsed": false
   },
   "id": "beea187bdba44974"
  },
  {
   "cell_type": "code",
   "execution_count": null,
   "outputs": [],
   "source": [
    "hdc1080 = HDC1080(i2c)\n",
    "print(hdc1080.measurements)"
   ],
   "metadata": {
    "collapsed": false
   },
   "id": "ae12d989663f1a39"
  },
  {
   "cell_type": "code",
   "execution_count": null,
   "outputs": [],
   "source": [
    "sps30 = sps30_factory(i2c)"
   ],
   "metadata": {
    "collapsed": false
   },
   "id": "d34e3c30613d20a6"
  },
  {
   "cell_type": "code",
   "execution_count": null,
   "outputs": [],
   "source": [
    "while True:\n",
    "    if hdc1080:\n",
    "        print(hdc1080.measurements)\n",
    "    if scd4x: \n",
    "        print(scd4x.CO2)\n",
    "    if sgp30: \n",
    "        print(sgp30.co2eq_tvoc())\n",
    "    if ccs811:\n",
    "        print(ccs811.read_data())\n",
    "    if sps30:\n",
    "        print(sps30.read())\n",
    "    if sgp41:\n",
    "        print(sgp41.measure_raw())\n",
    "    time.sleep(2)"
   ],
   "metadata": {
    "collapsed": false
   },
   "id": "399cb396738272da"
  },
  {
   "cell_type": "code",
   "execution_count": null,
   "outputs": [],
   "source": [
    "DUST='/dev/tty.usbserial-2120'"
   ],
   "metadata": {
    "collapsed": false
   },
   "id": "a7d9b00e60646250"
  },
  {
   "cell_type": "code",
   "execution_count": null,
   "outputs": [],
   "source": [
    "from ph4_sense_py.sensors import sps30_uart_ada\n",
    "importlib.reload(sps30_uart_ada)"
   ],
   "metadata": {
    "collapsed": false
   },
   "id": "9abc638661b5c895"
  },
  {
   "cell_type": "code",
   "execution_count": null,
   "outputs": [],
   "source": [
    "sps30=sps30_uart_ada.SPS30AdaUart(DUST)"
   ],
   "metadata": {
    "collapsed": false
   },
   "id": "c21c112421e81d8a"
  },
  {
   "cell_type": "code",
   "execution_count": null,
   "outputs": [],
   "source": [
    "sps30.read_firmware_version()"
   ],
   "metadata": {
    "collapsed": false
   },
   "id": "ec3c07dd190deb09"
  },
  {
   "cell_type": "code",
   "execution_count": null,
   "outputs": [],
   "source": [
    "sps30.read_values()"
   ],
   "metadata": {
    "collapsed": false
   },
   "id": "4291c83694401612"
  },
  {
   "cell_type": "code",
   "execution_count": null,
   "outputs": [],
   "source": [
    "from ph4_sense_py.sensors import zh03b_uart_ada\n",
    "importlib.reload(zh03b_uart_ada)"
   ],
   "metadata": {
    "collapsed": false
   },
   "id": "5870c2f9dd033ab5"
  },
  {
   "cell_type": "code",
   "execution_count": null,
   "outputs": [],
   "source": [
    "zh03 = zh03b_uart_ada.Zh03bUartAda(DUST)"
   ],
   "metadata": {
    "collapsed": false
   },
   "id": "5935ce502f9fe7b8"
  },
  {
   "cell_type": "code",
   "execution_count": null,
   "outputs": [],
   "source": [
    "#print(zh03.dormant_mode(False))\n",
    "print(zh03.set_qa())\n",
    "#print(zh03.set_stream())\n",
    "print(zh03.qa_read_sample())"
   ],
   "metadata": {
    "collapsed": false
   },
   "id": "4bdb78bfe0b9e84e"
  },
  {
   "cell_type": "code",
   "execution_count": null,
   "outputs": [],
   "source": [
    "#zh03.qa_read_sample()"
   ],
   "metadata": {
    "collapsed": false
   },
   "id": "a8868f5d14a78b74"
  },
  {
   "cell_type": "code",
   "execution_count": null,
   "outputs": [],
   "source": [
    "zh03.read_sample()"
   ],
   "metadata": {
    "collapsed": false
   },
   "id": "1f60d0bdedc2cd90"
  },
  {
   "cell_type": "code",
   "execution_count": null,
   "outputs": [],
   "source": [
    "zh03.set_stream()"
   ],
   "metadata": {
    "collapsed": false
   },
   "id": "16d0dd88e1160580"
  },
  {
   "cell_type": "code",
   "execution_count": null,
   "outputs": [],
   "source": [
    "while True:\n",
    "    #print(zh03.qa_read_sample())\n",
    "    #time.sleep(0.2)\n",
    "    print(time.time(), zh03.read_sample())\n",
    "    time.sleep(1)"
   ],
   "metadata": {
    "collapsed": false
   },
   "id": "51bb85919175144b"
  },
  {
   "cell_type": "code",
   "execution_count": null,
   "outputs": [],
   "source": [
    "for i in range(100):\n",
    "    zh03.uart.flush_output()\n",
    "    zh03.dormant_mode(True)                "
   ],
   "metadata": {
    "collapsed": false
   },
   "id": "b58b38ed453f435d"
  },
  {
   "cell_type": "code",
   "execution_count": null,
   "outputs": [],
   "source": [
    "sps30 = SPS30_I2C(i2c)"
   ],
   "metadata": {
    "collapsed": false
   },
   "id": "5e3a0cfd04999369"
  },
  {
   "cell_type": "code",
   "execution_count": null,
   "outputs": [],
   "source": [
    "while True:\n",
    "    print(sps30.read())\n",
    "    time.sleep(1)"
   ],
   "metadata": {
    "collapsed": false
   },
   "id": "71926af6ed79018d"
  },
  {
   "cell_type": "code",
   "execution_count": null,
   "outputs": [],
   "source": [],
   "metadata": {
    "collapsed": false
   },
   "id": "6562bbdb7ebee17d"
  }
 ],
 "metadata": {
  "kernelspec": {
   "display_name": "Python 3 (ipykernel)",
   "language": "python",
   "name": "python3"
  },
  "language_info": {
   "codemirror_mode": {
    "name": "ipython",
    "version": 3
   },
   "file_extension": ".py",
   "mimetype": "text/x-python",
   "name": "python",
   "nbconvert_exporter": "python",
   "pygments_lexer": "ipython3",
   "version": "3.10.6"
  }
 },
 "nbformat": 4,
 "nbformat_minor": 5
}
